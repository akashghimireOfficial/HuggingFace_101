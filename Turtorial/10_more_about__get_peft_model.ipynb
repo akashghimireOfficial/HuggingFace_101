{
 "cells": [
  {
   "cell_type": "markdown",
   "metadata": {},
   "source": [
    "How to switch between different config ?\n",
    "\n",
    "Can we train multiple lora_adapter? for same task? different task parallely? \n",
    "\n",
    "from a list of adapters how to select? or load\n",
    "\n",
    "\n"
   ]
  },
  {
   "cell_type": "markdown",
   "metadata": {},
   "source": []
  }
 ],
 "metadata": {
  "language_info": {
   "name": "python"
  }
 },
 "nbformat": 4,
 "nbformat_minor": 2
}
