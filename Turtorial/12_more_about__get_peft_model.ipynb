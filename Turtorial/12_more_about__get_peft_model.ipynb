{
 "cells": [
  {
   "cell_type": "markdown",
   "metadata": {},
   "source": [
    "How to switch between different config ?\n",
    "\n",
    "Can we train multiple lora_adapter? for same task? different task parallely? \n",
    "\n",
    "from a list of adapters how to select? or load\n",
    "\n",
    "\n"
   ]
  },
  {
   "cell_type": "markdown",
   "metadata": {},
   "source": [
    "First lets revise how we can add different adapters and load it during training and inference"
   ]
  },
  {
   "cell_type": "code",
   "execution_count": 1,
   "metadata": {},
   "outputs": [
    {
     "name": "stderr",
     "output_type": "stream",
     "text": [
      "/home/akash/anaconda3/envs/vision/lib/python3.9/site-packages/tqdm/auto.py:21: TqdmWarning: IProgress not found. Please update jupyter and ipywidgets. See https://ipywidgets.readthedocs.io/en/stable/user_install.html\n",
      "  from .autonotebook import tqdm as notebook_tqdm\n"
     ]
    }
   ],
   "source": [
    "from transformers import AutoModelForCausalLM, AutoModelForSequenceClassification, AutoTokenizer\n",
    "\n",
    "from peft import LoraConfig, get_peft_model"
   ]
  },
  {
   "cell_type": "code",
   "execution_count": 2,
   "metadata": {},
   "outputs": [],
   "source": [
    "peft_model_name = 'roberta-base-peft'\n",
    "\n",
    "base_model = 'roberta-base'"
   ]
  },
  {
   "cell_type": "code",
   "execution_count": 3,
   "metadata": {},
   "outputs": [
    {
     "name": "stderr",
     "output_type": "stream",
     "text": [
      "Some weights of RobertaForSequenceClassification were not initialized from the model checkpoint at roberta-base and are newly initialized: ['classifier.dense.bias', 'classifier.dense.weight', 'classifier.out_proj.bias', 'classifier.out_proj.weight']\n",
      "You should probably TRAIN this model on a down-stream task to be able to use it for predictions and inference.\n"
     ]
    },
    {
     "data": {
      "text/plain": [
       "RobertaForSequenceClassification(\n",
       "  (roberta): RobertaModel(\n",
       "    (embeddings): RobertaEmbeddings(\n",
       "      (word_embeddings): Embedding(50265, 768, padding_idx=1)\n",
       "      (position_embeddings): Embedding(514, 768, padding_idx=1)\n",
       "      (token_type_embeddings): Embedding(1, 768)\n",
       "      (LayerNorm): LayerNorm((768,), eps=1e-05, elementwise_affine=True)\n",
       "      (dropout): Dropout(p=0.1, inplace=False)\n",
       "    )\n",
       "    (encoder): RobertaEncoder(\n",
       "      (layer): ModuleList(\n",
       "        (0-11): 12 x RobertaLayer(\n",
       "          (attention): RobertaAttention(\n",
       "            (self): RobertaSelfAttention(\n",
       "              (query): Linear(in_features=768, out_features=768, bias=True)\n",
       "              (key): Linear(in_features=768, out_features=768, bias=True)\n",
       "              (value): Linear(in_features=768, out_features=768, bias=True)\n",
       "              (dropout): Dropout(p=0.1, inplace=False)\n",
       "            )\n",
       "            (output): RobertaSelfOutput(\n",
       "              (dense): Linear(in_features=768, out_features=768, bias=True)\n",
       "              (LayerNorm): LayerNorm((768,), eps=1e-05, elementwise_affine=True)\n",
       "              (dropout): Dropout(p=0.1, inplace=False)\n",
       "            )\n",
       "          )\n",
       "          (intermediate): RobertaIntermediate(\n",
       "            (dense): Linear(in_features=768, out_features=3072, bias=True)\n",
       "            (intermediate_act_fn): GELUActivation()\n",
       "          )\n",
       "          (output): RobertaOutput(\n",
       "            (dense): Linear(in_features=3072, out_features=768, bias=True)\n",
       "            (LayerNorm): LayerNorm((768,), eps=1e-05, elementwise_affine=True)\n",
       "            (dropout): Dropout(p=0.1, inplace=False)\n",
       "          )\n",
       "        )\n",
       "      )\n",
       "    )\n",
       "  )\n",
       "  (classifier): RobertaClassificationHead(\n",
       "    (dense): Linear(in_features=768, out_features=768, bias=True)\n",
       "    (dropout): Dropout(p=0.1, inplace=False)\n",
       "    (out_proj): Linear(in_features=768, out_features=2, bias=True)\n",
       "  )\n",
       ")"
      ]
     },
     "execution_count": 3,
     "metadata": {},
     "output_type": "execute_result"
    }
   ],
   "source": [
    "##\n",
    "model=AutoModelForSequenceClassification.from_pretrained(pretrained_model_name_or_path=base_model)\n",
    "model"
   ]
  },
  {
   "cell_type": "code",
   "execution_count": 4,
   "metadata": {},
   "outputs": [
    {
     "name": "stdout",
     "output_type": "stream",
     "text": [
      "total parameters: 124647170 | total_trainable_parameters=124647170\n"
     ]
    }
   ],
   "source": [
    "model_total_parameters=sum(p.numel() for p in model.parameters())\n",
    "model_parameters_trainable=sum(p.numel() for p in model.parameters() if p.requires_grad)\n",
    "print(f'total parameters: {model_total_parameters} | total_trainable_parameters={model_parameters_trainable}')"
   ]
  },
  {
   "cell_type": "code",
   "execution_count": 5,
   "metadata": {},
   "outputs": [],
   "source": [
    "##loading the peft model\n",
    "peft_config=LoraConfig(inference_mode=False)\n",
    "\n",
    "peft_model=get_peft_model(model=model,\n",
    "                          peft_config=peft_config)"
   ]
  },
  {
   "cell_type": "code",
   "execution_count": 6,
   "metadata": {},
   "outputs": [
    {
     "name": "stdout",
     "output_type": "stream",
     "text": [
      "trainable params: 294,912 || all params: 124,942,082 || trainable%: 0.2360389672392365\n"
     ]
    }
   ],
   "source": [
    "peft_model.print_trainable_parameters() ## only trains 23% of the model"
   ]
  },
  {
   "cell_type": "code",
   "execution_count": 7,
   "metadata": {},
   "outputs": [
    {
     "data": {
      "text/plain": [
       "PeftModel(\n",
       "  (base_model): LoraModel(\n",
       "    (model): RobertaForSequenceClassification(\n",
       "      (roberta): RobertaModel(\n",
       "        (embeddings): RobertaEmbeddings(\n",
       "          (word_embeddings): Embedding(50265, 768, padding_idx=1)\n",
       "          (position_embeddings): Embedding(514, 768, padding_idx=1)\n",
       "          (token_type_embeddings): Embedding(1, 768)\n",
       "          (LayerNorm): LayerNorm((768,), eps=1e-05, elementwise_affine=True)\n",
       "          (dropout): Dropout(p=0.1, inplace=False)\n",
       "        )\n",
       "        (encoder): RobertaEncoder(\n",
       "          (layer): ModuleList(\n",
       "            (0-11): 12 x RobertaLayer(\n",
       "              (attention): RobertaAttention(\n",
       "                (self): RobertaSelfAttention(\n",
       "                  (query): lora.Linear(\n",
       "                    (base_layer): Linear(in_features=768, out_features=768, bias=True)\n",
       "                    (lora_dropout): ModuleDict(\n",
       "                      (default): Identity()\n",
       "                    )\n",
       "                    (lora_A): ModuleDict(\n",
       "                      (default): Linear(in_features=768, out_features=8, bias=False)\n",
       "                    )\n",
       "                    (lora_B): ModuleDict(\n",
       "                      (default): Linear(in_features=8, out_features=768, bias=False)\n",
       "                    )\n",
       "                    (lora_embedding_A): ParameterDict()\n",
       "                    (lora_embedding_B): ParameterDict()\n",
       "                  )\n",
       "                  (key): Linear(in_features=768, out_features=768, bias=True)\n",
       "                  (value): lora.Linear(\n",
       "                    (base_layer): Linear(in_features=768, out_features=768, bias=True)\n",
       "                    (lora_dropout): ModuleDict(\n",
       "                      (default): Identity()\n",
       "                    )\n",
       "                    (lora_A): ModuleDict(\n",
       "                      (default): Linear(in_features=768, out_features=8, bias=False)\n",
       "                    )\n",
       "                    (lora_B): ModuleDict(\n",
       "                      (default): Linear(in_features=8, out_features=768, bias=False)\n",
       "                    )\n",
       "                    (lora_embedding_A): ParameterDict()\n",
       "                    (lora_embedding_B): ParameterDict()\n",
       "                  )\n",
       "                  (dropout): Dropout(p=0.1, inplace=False)\n",
       "                )\n",
       "                (output): RobertaSelfOutput(\n",
       "                  (dense): Linear(in_features=768, out_features=768, bias=True)\n",
       "                  (LayerNorm): LayerNorm((768,), eps=1e-05, elementwise_affine=True)\n",
       "                  (dropout): Dropout(p=0.1, inplace=False)\n",
       "                )\n",
       "              )\n",
       "              (intermediate): RobertaIntermediate(\n",
       "                (dense): Linear(in_features=768, out_features=3072, bias=True)\n",
       "                (intermediate_act_fn): GELUActivation()\n",
       "              )\n",
       "              (output): RobertaOutput(\n",
       "                (dense): Linear(in_features=3072, out_features=768, bias=True)\n",
       "                (LayerNorm): LayerNorm((768,), eps=1e-05, elementwise_affine=True)\n",
       "                (dropout): Dropout(p=0.1, inplace=False)\n",
       "              )\n",
       "            )\n",
       "          )\n",
       "        )\n",
       "      )\n",
       "      (classifier): RobertaClassificationHead(\n",
       "        (dense): Linear(in_features=768, out_features=768, bias=True)\n",
       "        (dropout): Dropout(p=0.1, inplace=False)\n",
       "        (out_proj): Linear(in_features=768, out_features=2, bias=True)\n",
       "      )\n",
       "    )\n",
       "  )\n",
       ")"
      ]
     },
     "execution_count": 7,
     "metadata": {},
     "output_type": "execute_result"
    }
   ],
   "source": [
    "peft_model"
   ]
  },
  {
   "cell_type": "markdown",
   "metadata": {},
   "source": [
    "Adding a adapter works same as adding adapter to peft_model from the hub. Basically we will register numbers of adapters tp the config. This does not change the model itself. While training and inference we can switch to any of them using different methods as explained below. More detail on previous colab note 09_PEFT.ipynb"
   ]
  },
  {
   "cell_type": "code",
   "execution_count": 8,
   "metadata": {},
   "outputs": [],
   "source": [
    "\n",
    "\n",
    "peft_model.add_adapter('adapter1',peft_config)"
   ]
  },
  {
   "cell_type": "code",
   "execution_count": 9,
   "metadata": {},
   "outputs": [
    {
     "data": {
      "text/plain": [
       "PeftModel(\n",
       "  (base_model): LoraModel(\n",
       "    (model): RobertaForSequenceClassification(\n",
       "      (roberta): RobertaModel(\n",
       "        (embeddings): RobertaEmbeddings(\n",
       "          (word_embeddings): Embedding(50265, 768, padding_idx=1)\n",
       "          (position_embeddings): Embedding(514, 768, padding_idx=1)\n",
       "          (token_type_embeddings): Embedding(1, 768)\n",
       "          (LayerNorm): LayerNorm((768,), eps=1e-05, elementwise_affine=True)\n",
       "          (dropout): Dropout(p=0.1, inplace=False)\n",
       "        )\n",
       "        (encoder): RobertaEncoder(\n",
       "          (layer): ModuleList(\n",
       "            (0-11): 12 x RobertaLayer(\n",
       "              (attention): RobertaAttention(\n",
       "                (self): RobertaSelfAttention(\n",
       "                  (query): lora.Linear(\n",
       "                    (base_layer): Linear(in_features=768, out_features=768, bias=True)\n",
       "                    (lora_dropout): ModuleDict(\n",
       "                      (default): Identity()\n",
       "                      (adapter1): Identity()\n",
       "                    )\n",
       "                    (lora_A): ModuleDict(\n",
       "                      (default): Linear(in_features=768, out_features=8, bias=False)\n",
       "                      (adapter1): Linear(in_features=768, out_features=8, bias=False)\n",
       "                    )\n",
       "                    (lora_B): ModuleDict(\n",
       "                      (default): Linear(in_features=8, out_features=768, bias=False)\n",
       "                      (adapter1): Linear(in_features=8, out_features=768, bias=False)\n",
       "                    )\n",
       "                    (lora_embedding_A): ParameterDict()\n",
       "                    (lora_embedding_B): ParameterDict()\n",
       "                  )\n",
       "                  (key): Linear(in_features=768, out_features=768, bias=True)\n",
       "                  (value): lora.Linear(\n",
       "                    (base_layer): Linear(in_features=768, out_features=768, bias=True)\n",
       "                    (lora_dropout): ModuleDict(\n",
       "                      (default): Identity()\n",
       "                      (adapter1): Identity()\n",
       "                    )\n",
       "                    (lora_A): ModuleDict(\n",
       "                      (default): Linear(in_features=768, out_features=8, bias=False)\n",
       "                      (adapter1): Linear(in_features=768, out_features=8, bias=False)\n",
       "                    )\n",
       "                    (lora_B): ModuleDict(\n",
       "                      (default): Linear(in_features=8, out_features=768, bias=False)\n",
       "                      (adapter1): Linear(in_features=8, out_features=768, bias=False)\n",
       "                    )\n",
       "                    (lora_embedding_A): ParameterDict()\n",
       "                    (lora_embedding_B): ParameterDict()\n",
       "                  )\n",
       "                  (dropout): Dropout(p=0.1, inplace=False)\n",
       "                )\n",
       "                (output): RobertaSelfOutput(\n",
       "                  (dense): Linear(in_features=768, out_features=768, bias=True)\n",
       "                  (LayerNorm): LayerNorm((768,), eps=1e-05, elementwise_affine=True)\n",
       "                  (dropout): Dropout(p=0.1, inplace=False)\n",
       "                )\n",
       "              )\n",
       "              (intermediate): RobertaIntermediate(\n",
       "                (dense): Linear(in_features=768, out_features=3072, bias=True)\n",
       "                (intermediate_act_fn): GELUActivation()\n",
       "              )\n",
       "              (output): RobertaOutput(\n",
       "                (dense): Linear(in_features=3072, out_features=768, bias=True)\n",
       "                (LayerNorm): LayerNorm((768,), eps=1e-05, elementwise_affine=True)\n",
       "                (dropout): Dropout(p=0.1, inplace=False)\n",
       "              )\n",
       "            )\n",
       "          )\n",
       "        )\n",
       "      )\n",
       "      (classifier): RobertaClassificationHead(\n",
       "        (dense): Linear(in_features=768, out_features=768, bias=True)\n",
       "        (dropout): Dropout(p=0.1, inplace=False)\n",
       "        (out_proj): Linear(in_features=768, out_features=2, bias=True)\n",
       "      )\n",
       "    )\n",
       "  )\n",
       ")"
      ]
     },
     "execution_count": 9,
     "metadata": {},
     "output_type": "execute_result"
    }
   ],
   "source": [
    "peft_model"
   ]
  },
  {
   "cell_type": "code",
   "execution_count": 10,
   "metadata": {},
   "outputs": [
    {
     "name": "stdout",
     "output_type": "stream",
     "text": [
      "trainable params: 294,912 || all params: 125,236,994 || trainable%: 0.23548313527870207\n"
     ]
    }
   ],
   "source": [
    "peft_model.print_trainable_parameters()"
   ]
  },
  {
   "cell_type": "code",
   "execution_count": 11,
   "metadata": {},
   "outputs": [],
   "source": [
    "peft_model.add_adapter('adapter2',peft_config)\n",
    "peft_model.add_adapter('adapter3',peft_config)"
   ]
  },
  {
   "cell_type": "code",
   "execution_count": 12,
   "metadata": {},
   "outputs": [
    {
     "data": {
      "text/plain": [
       "PeftModel(\n",
       "  (base_model): LoraModel(\n",
       "    (model): RobertaForSequenceClassification(\n",
       "      (roberta): RobertaModel(\n",
       "        (embeddings): RobertaEmbeddings(\n",
       "          (word_embeddings): Embedding(50265, 768, padding_idx=1)\n",
       "          (position_embeddings): Embedding(514, 768, padding_idx=1)\n",
       "          (token_type_embeddings): Embedding(1, 768)\n",
       "          (LayerNorm): LayerNorm((768,), eps=1e-05, elementwise_affine=True)\n",
       "          (dropout): Dropout(p=0.1, inplace=False)\n",
       "        )\n",
       "        (encoder): RobertaEncoder(\n",
       "          (layer): ModuleList(\n",
       "            (0-11): 12 x RobertaLayer(\n",
       "              (attention): RobertaAttention(\n",
       "                (self): RobertaSelfAttention(\n",
       "                  (query): lora.Linear(\n",
       "                    (base_layer): Linear(in_features=768, out_features=768, bias=True)\n",
       "                    (lora_dropout): ModuleDict(\n",
       "                      (default): Identity()\n",
       "                      (adapter1): Identity()\n",
       "                      (adapter2): Identity()\n",
       "                      (adapter3): Identity()\n",
       "                    )\n",
       "                    (lora_A): ModuleDict(\n",
       "                      (default): Linear(in_features=768, out_features=8, bias=False)\n",
       "                      (adapter1): Linear(in_features=768, out_features=8, bias=False)\n",
       "                      (adapter2): Linear(in_features=768, out_features=8, bias=False)\n",
       "                      (adapter3): Linear(in_features=768, out_features=8, bias=False)\n",
       "                    )\n",
       "                    (lora_B): ModuleDict(\n",
       "                      (default): Linear(in_features=8, out_features=768, bias=False)\n",
       "                      (adapter1): Linear(in_features=8, out_features=768, bias=False)\n",
       "                      (adapter2): Linear(in_features=8, out_features=768, bias=False)\n",
       "                      (adapter3): Linear(in_features=8, out_features=768, bias=False)\n",
       "                    )\n",
       "                    (lora_embedding_A): ParameterDict()\n",
       "                    (lora_embedding_B): ParameterDict()\n",
       "                  )\n",
       "                  (key): Linear(in_features=768, out_features=768, bias=True)\n",
       "                  (value): lora.Linear(\n",
       "                    (base_layer): Linear(in_features=768, out_features=768, bias=True)\n",
       "                    (lora_dropout): ModuleDict(\n",
       "                      (default): Identity()\n",
       "                      (adapter1): Identity()\n",
       "                      (adapter2): Identity()\n",
       "                      (adapter3): Identity()\n",
       "                    )\n",
       "                    (lora_A): ModuleDict(\n",
       "                      (default): Linear(in_features=768, out_features=8, bias=False)\n",
       "                      (adapter1): Linear(in_features=768, out_features=8, bias=False)\n",
       "                      (adapter2): Linear(in_features=768, out_features=8, bias=False)\n",
       "                      (adapter3): Linear(in_features=768, out_features=8, bias=False)\n",
       "                    )\n",
       "                    (lora_B): ModuleDict(\n",
       "                      (default): Linear(in_features=8, out_features=768, bias=False)\n",
       "                      (adapter1): Linear(in_features=8, out_features=768, bias=False)\n",
       "                      (adapter2): Linear(in_features=8, out_features=768, bias=False)\n",
       "                      (adapter3): Linear(in_features=8, out_features=768, bias=False)\n",
       "                    )\n",
       "                    (lora_embedding_A): ParameterDict()\n",
       "                    (lora_embedding_B): ParameterDict()\n",
       "                  )\n",
       "                  (dropout): Dropout(p=0.1, inplace=False)\n",
       "                )\n",
       "                (output): RobertaSelfOutput(\n",
       "                  (dense): Linear(in_features=768, out_features=768, bias=True)\n",
       "                  (LayerNorm): LayerNorm((768,), eps=1e-05, elementwise_affine=True)\n",
       "                  (dropout): Dropout(p=0.1, inplace=False)\n",
       "                )\n",
       "              )\n",
       "              (intermediate): RobertaIntermediate(\n",
       "                (dense): Linear(in_features=768, out_features=3072, bias=True)\n",
       "                (intermediate_act_fn): GELUActivation()\n",
       "              )\n",
       "              (output): RobertaOutput(\n",
       "                (dense): Linear(in_features=3072, out_features=768, bias=True)\n",
       "                (LayerNorm): LayerNorm((768,), eps=1e-05, elementwise_affine=True)\n",
       "                (dropout): Dropout(p=0.1, inplace=False)\n",
       "              )\n",
       "            )\n",
       "          )\n",
       "        )\n",
       "      )\n",
       "      (classifier): RobertaClassificationHead(\n",
       "        (dense): Linear(in_features=768, out_features=768, bias=True)\n",
       "        (dropout): Dropout(p=0.1, inplace=False)\n",
       "        (out_proj): Linear(in_features=768, out_features=2, bias=True)\n",
       "      )\n",
       "    )\n",
       "  )\n",
       ")"
      ]
     },
     "execution_count": 12,
     "metadata": {},
     "output_type": "execute_result"
    }
   ],
   "source": [
    "peft_model"
   ]
  },
  {
   "cell_type": "code",
   "execution_count": 13,
   "metadata": {},
   "outputs": [
    {
     "data": {
      "text/plain": [
       "['default']"
      ]
     },
     "execution_count": 13,
     "metadata": {},
     "output_type": "execute_result"
    }
   ],
   "source": [
    "peft_model.active_adapters"
   ]
  },
  {
   "cell_type": "code",
   "execution_count": 14,
   "metadata": {},
   "outputs": [],
   "source": [
    "peft_model.set_adapter('adapter1')  #We can use this method to see the active peft adapter"
   ]
  },
  {
   "cell_type": "markdown",
   "metadata": {},
   "source": [
    "### peft_model.set_adapter\n",
    "This method would allow to set different adapter before training or "
   ]
  },
  {
   "cell_type": "code",
   "execution_count": 15,
   "metadata": {},
   "outputs": [],
   "source": [
    "peft_model.set_adapter('adapter1')"
   ]
  },
  {
   "cell_type": "code",
   "execution_count": 16,
   "metadata": {},
   "outputs": [
    {
     "data": {
      "text/plain": [
       "PeftModel(\n",
       "  (base_model): LoraModel(\n",
       "    (model): RobertaForSequenceClassification(\n",
       "      (roberta): RobertaModel(\n",
       "        (embeddings): RobertaEmbeddings(\n",
       "          (word_embeddings): Embedding(50265, 768, padding_idx=1)\n",
       "          (position_embeddings): Embedding(514, 768, padding_idx=1)\n",
       "          (token_type_embeddings): Embedding(1, 768)\n",
       "          (LayerNorm): LayerNorm((768,), eps=1e-05, elementwise_affine=True)\n",
       "          (dropout): Dropout(p=0.1, inplace=False)\n",
       "        )\n",
       "        (encoder): RobertaEncoder(\n",
       "          (layer): ModuleList(\n",
       "            (0-11): 12 x RobertaLayer(\n",
       "              (attention): RobertaAttention(\n",
       "                (self): RobertaSelfAttention(\n",
       "                  (query): lora.Linear(\n",
       "                    (base_layer): Linear(in_features=768, out_features=768, bias=True)\n",
       "                    (lora_dropout): ModuleDict(\n",
       "                      (default): Identity()\n",
       "                      (adapter1): Identity()\n",
       "                      (adapter2): Identity()\n",
       "                      (adapter3): Identity()\n",
       "                    )\n",
       "                    (lora_A): ModuleDict(\n",
       "                      (default): Linear(in_features=768, out_features=8, bias=False)\n",
       "                      (adapter1): Linear(in_features=768, out_features=8, bias=False)\n",
       "                      (adapter2): Linear(in_features=768, out_features=8, bias=False)\n",
       "                      (adapter3): Linear(in_features=768, out_features=8, bias=False)\n",
       "                    )\n",
       "                    (lora_B): ModuleDict(\n",
       "                      (default): Linear(in_features=8, out_features=768, bias=False)\n",
       "                      (adapter1): Linear(in_features=8, out_features=768, bias=False)\n",
       "                      (adapter2): Linear(in_features=8, out_features=768, bias=False)\n",
       "                      (adapter3): Linear(in_features=8, out_features=768, bias=False)\n",
       "                    )\n",
       "                    (lora_embedding_A): ParameterDict()\n",
       "                    (lora_embedding_B): ParameterDict()\n",
       "                  )\n",
       "                  (key): Linear(in_features=768, out_features=768, bias=True)\n",
       "                  (value): lora.Linear(\n",
       "                    (base_layer): Linear(in_features=768, out_features=768, bias=True)\n",
       "                    (lora_dropout): ModuleDict(\n",
       "                      (default): Identity()\n",
       "                      (adapter1): Identity()\n",
       "                      (adapter2): Identity()\n",
       "                      (adapter3): Identity()\n",
       "                    )\n",
       "                    (lora_A): ModuleDict(\n",
       "                      (default): Linear(in_features=768, out_features=8, bias=False)\n",
       "                      (adapter1): Linear(in_features=768, out_features=8, bias=False)\n",
       "                      (adapter2): Linear(in_features=768, out_features=8, bias=False)\n",
       "                      (adapter3): Linear(in_features=768, out_features=8, bias=False)\n",
       "                    )\n",
       "                    (lora_B): ModuleDict(\n",
       "                      (default): Linear(in_features=8, out_features=768, bias=False)\n",
       "                      (adapter1): Linear(in_features=8, out_features=768, bias=False)\n",
       "                      (adapter2): Linear(in_features=8, out_features=768, bias=False)\n",
       "                      (adapter3): Linear(in_features=8, out_features=768, bias=False)\n",
       "                    )\n",
       "                    (lora_embedding_A): ParameterDict()\n",
       "                    (lora_embedding_B): ParameterDict()\n",
       "                  )\n",
       "                  (dropout): Dropout(p=0.1, inplace=False)\n",
       "                )\n",
       "                (output): RobertaSelfOutput(\n",
       "                  (dense): Linear(in_features=768, out_features=768, bias=True)\n",
       "                  (LayerNorm): LayerNorm((768,), eps=1e-05, elementwise_affine=True)\n",
       "                  (dropout): Dropout(p=0.1, inplace=False)\n",
       "                )\n",
       "              )\n",
       "              (intermediate): RobertaIntermediate(\n",
       "                (dense): Linear(in_features=768, out_features=3072, bias=True)\n",
       "                (intermediate_act_fn): GELUActivation()\n",
       "              )\n",
       "              (output): RobertaOutput(\n",
       "                (dense): Linear(in_features=3072, out_features=768, bias=True)\n",
       "                (LayerNorm): LayerNorm((768,), eps=1e-05, elementwise_affine=True)\n",
       "                (dropout): Dropout(p=0.1, inplace=False)\n",
       "              )\n",
       "            )\n",
       "          )\n",
       "        )\n",
       "      )\n",
       "      (classifier): RobertaClassificationHead(\n",
       "        (dense): Linear(in_features=768, out_features=768, bias=True)\n",
       "        (dropout): Dropout(p=0.1, inplace=False)\n",
       "        (out_proj): Linear(in_features=768, out_features=2, bias=True)\n",
       "      )\n",
       "    )\n",
       "  )\n",
       ")"
      ]
     },
     "execution_count": 16,
     "metadata": {},
     "output_type": "execute_result"
    }
   ],
   "source": [
    "peft_model"
   ]
  },
  {
   "cell_type": "markdown",
   "metadata": {},
   "source": [
    "#### Testing different adapters config during training and testing "
   ]
  },
  {
   "cell_type": "code",
   "execution_count": 4,
   "metadata": {},
   "outputs": [
    {
     "name": "stderr",
     "output_type": "stream",
     "text": [
      "2024-05-16 00:25:57.573554: I external/local_tsl/tsl/cuda/cudart_stub.cc:31] Could not find cuda drivers on your machine, GPU will not be used.\n",
      "2024-05-16 00:25:57.615548: E external/local_xla/xla/stream_executor/cuda/cuda_dnn.cc:9261] Unable to register cuDNN factory: Attempting to register factory for plugin cuDNN when one has already been registered\n",
      "2024-05-16 00:25:57.615583: E external/local_xla/xla/stream_executor/cuda/cuda_fft.cc:607] Unable to register cuFFT factory: Attempting to register factory for plugin cuFFT when one has already been registered\n",
      "2024-05-16 00:25:57.616604: E external/local_xla/xla/stream_executor/cuda/cuda_blas.cc:1515] Unable to register cuBLAS factory: Attempting to register factory for plugin cuBLAS when one has already been registered\n",
      "2024-05-16 00:25:57.626531: I external/local_tsl/tsl/cuda/cudart_stub.cc:31] Could not find cuda drivers on your machine, GPU will not be used.\n",
      "2024-05-16 00:25:57.627438: I tensorflow/core/platform/cpu_feature_guard.cc:182] This TensorFlow binary is optimized to use available CPU instructions in performance-critical operations.\n",
      "To enable the following instructions: AVX2 FMA, in other operations, rebuild TensorFlow with the appropriate compiler flags.\n",
      "2024-05-16 00:25:58.781081: W tensorflow/compiler/tf2tensorrt/utils/py_utils.cc:38] TF-TRT Warning: Could not find TensorRT\n"
     ]
    }
   ],
   "source": [
    "import transformers\n",
    "from transformers import AutoTokenizer\n",
    "from transformers import DataCollatorWithPadding\n",
    "import numpy as np\n",
    "\n",
    "import datasets\n"
   ]
  },
  {
   "cell_type": "code",
   "execution_count": 18,
   "metadata": {},
   "outputs": [
    {
     "name": "stdout",
     "output_type": "stream",
     "text": [
      "number of labels: 4\n",
      "the labels: ['World', 'Sports', 'Business', 'Sci/Tech']\n",
      "id2label: {0: 'World', 1: 'Sports', 2: 'Business', 3: 'Sci/Tech'}\n"
     ]
    }
   ],
   "source": [
    "\n",
    "\n",
    "tokenizer=AutoTokenizer.from_pretrained(pretrained_model_name_or_path=base_model)\n",
    "dataset=datasets.load_dataset('ag_news')\n",
    "\n",
    "num_labels=np.unique(dataset['train']['label']).shape[0]\n",
    "dataset['train'].features\n",
    "def tokenize_example(example_dataset):\n",
    "    text=example_dataset['text']\n",
    "    return tokenizer(text,padding=True,truncation=True)\n",
    "\n",
    "tokenize_dataset=dataset.map(tokenize_example,\n",
    "                             batched=True,\n",
    "                            remove_columns=['text'])\n",
    "num_labels = dataset['train'].features['label'].num_classes\n",
    "classnames=tokenize_dataset['train'].features['label'].names\n",
    "print(f\"number of labels: {num_labels}\")\n",
    "print(f\"the labels: {classnames}\")\n",
    "\n",
    "id2label={i:label for i,label in enumerate(classnames)}\n",
    "print(f'id2label: {id2label}')\n",
    "\n",
    "\n",
    "data_collator=DataCollatorWithPadding(tokenizer=tokenizer,padding=True,return_tensors='pt') ## we are again padding even though there is already padding in above tokenizer.map(batched=True); This is because\n",
    "# in map padding is done in a fixed batched size; however; during training using Trainer().train() different batch_size would have been present so we wanna make sure it is agiain padded when we are generating batches\n",
    "##during training"
   ]
  },
  {
   "cell_type": "code",
   "execution_count": 19,
   "metadata": {},
   "outputs": [],
   "source": [
    "seed=101\n",
    "train_dataset=tokenize_dataset['train'].shuffle(seed=seed).select(range(2000))\n",
    "eval_dataset=tokenize_dataset['test'].shuffle(seed=seed).select(range(2000))"
   ]
  },
  {
   "cell_type": "code",
   "execution_count": 20,
   "metadata": {},
   "outputs": [],
   "source": [
    "### creating different lora_adapter_config\n",
    "peft_config=peft_config_A=LoraConfig(inference_mode=False)\n",
    "peft_config_1=LoraConfig(r=4,lora_alpha=16,inference_mode=False,lora_dropout=0.1)\n",
    "peft_config_2=LoraConfig(inference_mode=False,r=8,lora_alpha=32,lora_dropout=0.3)\n"
   ]
  },
  {
   "cell_type": "code",
   "execution_count": 21,
   "metadata": {},
   "outputs": [
    {
     "name": "stderr",
     "output_type": "stream",
     "text": [
      "Some weights of RobertaForSequenceClassification were not initialized from the model checkpoint at roberta-base and are newly initialized: ['classifier.dense.bias', 'classifier.dense.weight', 'classifier.out_proj.bias', 'classifier.out_proj.weight']\n",
      "You should probably TRAIN this model on a down-stream task to be able to use it for predictions and inference.\n"
     ]
    }
   ],
   "source": [
    "model=AutoModelForSequenceClassification.from_pretrained(pretrained_model_name_or_path=base_model,id2label=id2label)\n",
    "peft_model=get_peft_model(model=model,\n",
    "                          peft_config=peft_config\n",
    "                       \n",
    "                    )\n"
   ]
  },
  {
   "cell_type": "code",
   "execution_count": 22,
   "metadata": {},
   "outputs": [],
   "source": [
    "## add adapter\n",
    "peft_model.add_adapter('adapter1',peft_config=peft_config_1)\n",
    "peft_model.add_adapter('adapter2',peft_config=peft_config_2)"
   ]
  },
  {
   "cell_type": "code",
   "execution_count": 23,
   "metadata": {},
   "outputs": [
    {
     "data": {
      "text/plain": [
       "PeftModel(\n",
       "  (base_model): LoraModel(\n",
       "    (model): RobertaForSequenceClassification(\n",
       "      (roberta): RobertaModel(\n",
       "        (embeddings): RobertaEmbeddings(\n",
       "          (word_embeddings): Embedding(50265, 768, padding_idx=1)\n",
       "          (position_embeddings): Embedding(514, 768, padding_idx=1)\n",
       "          (token_type_embeddings): Embedding(1, 768)\n",
       "          (LayerNorm): LayerNorm((768,), eps=1e-05, elementwise_affine=True)\n",
       "          (dropout): Dropout(p=0.1, inplace=False)\n",
       "        )\n",
       "        (encoder): RobertaEncoder(\n",
       "          (layer): ModuleList(\n",
       "            (0-11): 12 x RobertaLayer(\n",
       "              (attention): RobertaAttention(\n",
       "                (self): RobertaSelfAttention(\n",
       "                  (query): lora.Linear(\n",
       "                    (base_layer): Linear(in_features=768, out_features=768, bias=True)\n",
       "                    (lora_dropout): ModuleDict(\n",
       "                      (default): Identity()\n",
       "                      (adapter1): Dropout(p=0.1, inplace=False)\n",
       "                      (adapter2): Dropout(p=0.3, inplace=False)\n",
       "                    )\n",
       "                    (lora_A): ModuleDict(\n",
       "                      (default): Linear(in_features=768, out_features=8, bias=False)\n",
       "                      (adapter1): Linear(in_features=768, out_features=4, bias=False)\n",
       "                      (adapter2): Linear(in_features=768, out_features=8, bias=False)\n",
       "                    )\n",
       "                    (lora_B): ModuleDict(\n",
       "                      (default): Linear(in_features=8, out_features=768, bias=False)\n",
       "                      (adapter1): Linear(in_features=4, out_features=768, bias=False)\n",
       "                      (adapter2): Linear(in_features=8, out_features=768, bias=False)\n",
       "                    )\n",
       "                    (lora_embedding_A): ParameterDict()\n",
       "                    (lora_embedding_B): ParameterDict()\n",
       "                  )\n",
       "                  (key): Linear(in_features=768, out_features=768, bias=True)\n",
       "                  (value): lora.Linear(\n",
       "                    (base_layer): Linear(in_features=768, out_features=768, bias=True)\n",
       "                    (lora_dropout): ModuleDict(\n",
       "                      (default): Identity()\n",
       "                      (adapter1): Dropout(p=0.1, inplace=False)\n",
       "                      (adapter2): Dropout(p=0.3, inplace=False)\n",
       "                    )\n",
       "                    (lora_A): ModuleDict(\n",
       "                      (default): Linear(in_features=768, out_features=8, bias=False)\n",
       "                      (adapter1): Linear(in_features=768, out_features=4, bias=False)\n",
       "                      (adapter2): Linear(in_features=768, out_features=8, bias=False)\n",
       "                    )\n",
       "                    (lora_B): ModuleDict(\n",
       "                      (default): Linear(in_features=8, out_features=768, bias=False)\n",
       "                      (adapter1): Linear(in_features=4, out_features=768, bias=False)\n",
       "                      (adapter2): Linear(in_features=8, out_features=768, bias=False)\n",
       "                    )\n",
       "                    (lora_embedding_A): ParameterDict()\n",
       "                    (lora_embedding_B): ParameterDict()\n",
       "                  )\n",
       "                  (dropout): Dropout(p=0.1, inplace=False)\n",
       "                )\n",
       "                (output): RobertaSelfOutput(\n",
       "                  (dense): Linear(in_features=768, out_features=768, bias=True)\n",
       "                  (LayerNorm): LayerNorm((768,), eps=1e-05, elementwise_affine=True)\n",
       "                  (dropout): Dropout(p=0.1, inplace=False)\n",
       "                )\n",
       "              )\n",
       "              (intermediate): RobertaIntermediate(\n",
       "                (dense): Linear(in_features=768, out_features=3072, bias=True)\n",
       "                (intermediate_act_fn): GELUActivation()\n",
       "              )\n",
       "              (output): RobertaOutput(\n",
       "                (dense): Linear(in_features=3072, out_features=768, bias=True)\n",
       "                (LayerNorm): LayerNorm((768,), eps=1e-05, elementwise_affine=True)\n",
       "                (dropout): Dropout(p=0.1, inplace=False)\n",
       "              )\n",
       "            )\n",
       "          )\n",
       "        )\n",
       "      )\n",
       "      (classifier): RobertaClassificationHead(\n",
       "        (dense): Linear(in_features=768, out_features=768, bias=True)\n",
       "        (dropout): Dropout(p=0.1, inplace=False)\n",
       "        (out_proj): Linear(in_features=768, out_features=4, bias=True)\n",
       "      )\n",
       "    )\n",
       "  )\n",
       ")"
      ]
     },
     "execution_count": 23,
     "metadata": {},
     "output_type": "execute_result"
    }
   ],
   "source": [
    "peft_model"
   ]
  },
  {
   "cell_type": "code",
   "execution_count": 5,
   "metadata": {},
   "outputs": [],
   "source": [
    "import evaluate\n",
    "\n",
    "metrics=evaluate.load('accuracy')\n",
    "\n",
    "def compute_metrics(eval_pred):\n",
    "    logits,label=eval_pred\n",
    "    pred_label=np.argmax(logits,axis=-1)\n",
    "    return metrics.compute(predictions=pred_label,references=label)"
   ]
  },
  {
   "cell_type": "markdown",
   "metadata": {},
   "source": [
    "#### Training with LoRAConfigA"
   ]
  },
  {
   "cell_type": "code",
   "execution_count": 25,
   "metadata": {},
   "outputs": [],
   "source": [
    "from transformers import TrainingArguments,Trainer"
   ]
  },
  {
   "cell_type": "code",
   "execution_count": 26,
   "metadata": {},
   "outputs": [
    {
     "name": "stderr",
     "output_type": "stream",
     "text": [
      "/home/akash/anaconda3/envs/vision/lib/python3.9/site-packages/accelerate/accelerator.py:436: FutureWarning: Passing the following arguments to `Accelerator` is deprecated and will be removed in version 1.0 of Accelerate: dict_keys(['dispatch_batches', 'split_batches', 'even_batches', 'use_seedable_sampler']). Please pass an `accelerate.DataLoaderConfiguration` instead: \n",
      "dataloader_config = DataLoaderConfiguration(dispatch_batches=None, split_batches=False, even_batches=True, use_seedable_sampler=True)\n",
      "  warnings.warn(\n"
     ]
    },
    {
     "data": {
      "text/html": [
       "\n",
       "    <div>\n",
       "      \n",
       "      <progress value='750' max='750' style='width:300px; height:20px; vertical-align: middle;'></progress>\n",
       "      [750/750 02:29, Epoch 3/3]\n",
       "    </div>\n",
       "    <table border=\"1\" class=\"dataframe\">\n",
       "  <thead>\n",
       " <tr style=\"text-align: left;\">\n",
       "      <th>Step</th>\n",
       "      <th>Training Loss</th>\n",
       "    </tr>\n",
       "  </thead>\n",
       "  <tbody>\n",
       "    <tr>\n",
       "      <td>500</td>\n",
       "      <td>1.336300</td>\n",
       "    </tr>\n",
       "  </tbody>\n",
       "</table><p>"
      ],
      "text/plain": [
       "<IPython.core.display.HTML object>"
      ]
     },
     "metadata": {},
     "output_type": "display_data"
    },
    {
     "data": {
      "text/plain": [
       "TrainOutput(global_step=750, training_loss=1.219131795247396, metrics={'train_runtime': 149.721, 'train_samples_per_second': 40.075, 'train_steps_per_second': 5.009, 'total_flos': 957729935645376.0, 'train_loss': 1.219131795247396, 'epoch': 3.0})"
      ]
     },
     "execution_count": 26,
     "metadata": {},
     "output_type": "execute_result"
    }
   ],
   "source": [
    "peft_model.set_adapter('adapter1')\n",
    "saved_dire='../saved_weight/12_config1_lora'\n",
    "args_1=TrainingArguments(output_dir=saved_dire)\n",
    "trainer_1=Trainer(model=peft_model,\n",
    "                  args=args_1,\n",
    "                  train_dataset=train_dataset,\n",
    "                  eval_dataset=eval_dataset,\n",
    "                  compute_metrics=compute_metrics,\n",
    "                  data_collator=data_collator\n",
    "                  )\n",
    "\n",
    "trainer_1.train()\n"
   ]
  },
  {
   "cell_type": "code",
   "execution_count": 27,
   "metadata": {},
   "outputs": [
    {
     "data": {
      "text/html": [
       "\n",
       "    <div>\n",
       "      \n",
       "      <progress value='250' max='250' style='width:300px; height:20px; vertical-align: middle;'></progress>\n",
       "      [250/250 00:17]\n",
       "    </div>\n",
       "    "
      ],
      "text/plain": [
       "<IPython.core.display.HTML object>"
      ]
     },
     "metadata": {},
     "output_type": "display_data"
    },
    {
     "data": {
      "text/plain": [
       "{'eval_runtime': 17.9652,\n",
       " 'eval_samples_per_second': 111.326,\n",
       " 'eval_steps_per_second': 13.916,\n",
       " 'epoch': 3.0}"
      ]
     },
     "execution_count": 27,
     "metadata": {},
     "output_type": "execute_result"
    }
   ],
   "source": [
    "trainer_1.evaluate()"
   ]
  },
  {
   "cell_type": "markdown",
   "metadata": {},
   "source": [
    "#### Training with LoRAConfig2"
   ]
  },
  {
   "cell_type": "code",
   "execution_count": 28,
   "metadata": {},
   "outputs": [
    {
     "name": "stderr",
     "output_type": "stream",
     "text": [
      "/home/akash/anaconda3/envs/vision/lib/python3.9/site-packages/accelerate/accelerator.py:436: FutureWarning: Passing the following arguments to `Accelerator` is deprecated and will be removed in version 1.0 of Accelerate: dict_keys(['dispatch_batches', 'split_batches', 'even_batches', 'use_seedable_sampler']). Please pass an `accelerate.DataLoaderConfiguration` instead: \n",
      "dataloader_config = DataLoaderConfiguration(dispatch_batches=None, split_batches=False, even_batches=True, use_seedable_sampler=True)\n",
      "  warnings.warn(\n"
     ]
    },
    {
     "data": {
      "text/html": [
       "\n",
       "    <div>\n",
       "      \n",
       "      <progress value='750' max='750' style='width:300px; height:20px; vertical-align: middle;'></progress>\n",
       "      [750/750 02:30, Epoch 3/3]\n",
       "    </div>\n",
       "    <table border=\"1\" class=\"dataframe\">\n",
       "  <thead>\n",
       " <tr style=\"text-align: left;\">\n",
       "      <th>Step</th>\n",
       "      <th>Training Loss</th>\n",
       "    </tr>\n",
       "  </thead>\n",
       "  <tbody>\n",
       "    <tr>\n",
       "      <td>500</td>\n",
       "      <td>1.162600</td>\n",
       "    </tr>\n",
       "  </tbody>\n",
       "</table><p>"
      ],
      "text/plain": [
       "<IPython.core.display.HTML object>"
      ]
     },
     "metadata": {},
     "output_type": "display_data"
    },
    {
     "data": {
      "text/plain": [
       "TrainOutput(global_step=750, training_loss=0.9998443806966146, metrics={'train_runtime': 151.0823, 'train_samples_per_second': 39.713, 'train_steps_per_second': 4.964, 'total_flos': 957729935645376.0, 'train_loss': 0.9998443806966146, 'epoch': 3.0})"
      ]
     },
     "execution_count": 28,
     "metadata": {},
     "output_type": "execute_result"
    }
   ],
   "source": [
    "peft_model.set_adapter('adapter2')\n",
    "saved_dire='../saved_weight/12_config2_lora'\n",
    "args_2=TrainingArguments(output_dir=saved_dire)\n",
    "trainer_2=Trainer(model=peft_model,\n",
    "                  args=args_2,\n",
    "                  train_dataset=train_dataset,\n",
    "                  eval_dataset=eval_dataset,\n",
    "                  compute_metrics=compute_metrics,\n",
    "                  data_collator=data_collator\n",
    "                  )\n",
    "\n",
    "trainer_2.train()"
   ]
  },
  {
   "cell_type": "code",
   "execution_count": 29,
   "metadata": {},
   "outputs": [
    {
     "data": {
      "text/html": [
       "\n",
       "    <div>\n",
       "      \n",
       "      <progress value='250' max='250' style='width:300px; height:20px; vertical-align: middle;'></progress>\n",
       "      [250/250 00:17]\n",
       "    </div>\n",
       "    "
      ],
      "text/plain": [
       "<IPython.core.display.HTML object>"
      ]
     },
     "metadata": {},
     "output_type": "display_data"
    },
    {
     "data": {
      "text/plain": [
       "{'eval_runtime': 18.1284,\n",
       " 'eval_samples_per_second': 110.324,\n",
       " 'eval_steps_per_second': 13.79,\n",
       " 'epoch': 3.0}"
      ]
     },
     "execution_count": 29,
     "metadata": {},
     "output_type": "execute_result"
    }
   ],
   "source": [
    "trainer_2.evaluate()"
   ]
  },
  {
   "cell_type": "code",
   "execution_count": 7,
   "metadata": {},
   "outputs": [],
   "source": [
    "saved_dire='../saved_weight/12_config_lora'\n",
    "peft_model.save_pretrained(saved_dire)\n",
    "tokenizer.save_pretrained(saved_dire)"
   ]
  },
  {
   "cell_type": "markdown",
   "metadata": {},
   "source": [
    "## loading both model_adapter"
   ]
  },
  {
   "cell_type": "code",
   "execution_count": 28,
   "metadata": {},
   "outputs": [],
   "source": [
    "from peft import PeftConfig,PeftModel\n",
    "from transformers import AutoModelForSequenceClassification,AutoTokenizer"
   ]
  },
  {
   "cell_type": "code",
   "execution_count": 30,
   "metadata": {},
   "outputs": [],
   "source": [
    "## Path of the save_model dire\n",
    "saved_dire='../saved_weight/12_config_lora'"
   ]
  },
  {
   "cell_type": "code",
   "execution_count": 45,
   "metadata": {},
   "outputs": [
    {
     "name": "stderr",
     "output_type": "stream",
     "text": [
      "Some weights of RobertaForSequenceClassification were not initialized from the model checkpoint at roberta-base and are newly initialized: ['classifier.dense.bias', 'classifier.dense.weight', 'classifier.out_proj.bias', 'classifier.out_proj.weight']\n",
      "You should probably TRAIN this model on a down-stream task to be able to use it for predictions and inference.\n"
     ]
    }
   ],
   "source": [
    "## loading the \"Pretrained\" base model and \"Pretrained\" tokenizer\n",
    "id2label={0: 'World', 1: 'Sports', 2: 'Business', 3: 'Sci/Tech'}\n",
    "base_model=AutoModelForSequenceClassification.from_pretrained(saved_dire,id2label= id2label)\n",
    "tokenizer=AutoTokenizer.from_pretrained(saved_dire)"
   ]
  },
  {
   "cell_type": "code",
   "execution_count": 46,
   "metadata": {},
   "outputs": [],
   "source": [
    "##loading the adapter1_config and adapter2_config\n",
    "adapter1_config=PeftConfig.from_pretrained(saved_dire+'/adapter1')\n",
    "adapter2_config=PeftConfig.from_pretrained(saved_dire+'/adapter2')"
   ]
  },
  {
   "cell_type": "code",
   "execution_count": 47,
   "metadata": {},
   "outputs": [
    {
     "name": "stdout",
     "output_type": "stream",
     "text": [
      "adapter1_config: LoraConfig(peft_type=<PeftType.LORA: 'LORA'>, auto_mapping={'base_model_class': 'RobertaForSequenceClassification', 'parent_library': 'transformers.models.roberta.modeling_roberta'}, base_model_name_or_path='roberta-base', revision=None, task_type=None, inference_mode=True, r=4, target_modules={'query', 'value'}, lora_alpha=16, lora_dropout=0.1, fan_in_fan_out=False, bias='none', use_rslora=False, modules_to_save=None, init_lora_weights=True, layers_to_transform=None, layers_pattern=None, rank_pattern={}, alpha_pattern={}, megatron_config=None, megatron_core='megatron.core', loftq_config={}, use_dora=False, layer_replication=None)\n",
      "adapter2_config: LoraConfig(peft_type=<PeftType.LORA: 'LORA'>, auto_mapping={'base_model_class': 'RobertaForSequenceClassification', 'parent_library': 'transformers.models.roberta.modeling_roberta'}, base_model_name_or_path='roberta-base', revision=None, task_type=None, inference_mode=True, r=8, target_modules={'query', 'value'}, lora_alpha=32, lora_dropout=0.3, fan_in_fan_out=False, bias='none', use_rslora=False, modules_to_save=None, init_lora_weights=True, layers_to_transform=None, layers_pattern=None, rank_pattern={}, alpha_pattern={}, megatron_config=None, megatron_core='megatron.core', loftq_config={}, use_dora=False, layer_replication=None)\n"
     ]
    }
   ],
   "source": [
    "print(f'adapter1_config: {adapter1_config}')\n",
    "print(f'adapter2_config: {adapter2_config}')"
   ]
  },
  {
   "cell_type": "code",
   "execution_count": 48,
   "metadata": {},
   "outputs": [
    {
     "data": {
      "text/plain": [
       "_IncompatibleKeys(missing_keys=['base_model.model.roberta.embeddings.word_embeddings.weight', 'base_model.model.roberta.embeddings.position_embeddings.weight', 'base_model.model.roberta.embeddings.token_type_embeddings.weight', 'base_model.model.roberta.embeddings.LayerNorm.weight', 'base_model.model.roberta.embeddings.LayerNorm.bias', 'base_model.model.roberta.encoder.layer.0.attention.self.query.base_layer.weight', 'base_model.model.roberta.encoder.layer.0.attention.self.query.base_layer.bias', 'base_model.model.roberta.encoder.layer.0.attention.self.query.lora_A.default.weight', 'base_model.model.roberta.encoder.layer.0.attention.self.query.lora_A.adapter1.weight', 'base_model.model.roberta.encoder.layer.0.attention.self.query.lora_B.default.weight', 'base_model.model.roberta.encoder.layer.0.attention.self.query.lora_B.adapter1.weight', 'base_model.model.roberta.encoder.layer.0.attention.self.key.weight', 'base_model.model.roberta.encoder.layer.0.attention.self.key.bias', 'base_model.model.roberta.encoder.layer.0.attention.self.value.base_layer.weight', 'base_model.model.roberta.encoder.layer.0.attention.self.value.base_layer.bias', 'base_model.model.roberta.encoder.layer.0.attention.self.value.lora_A.default.weight', 'base_model.model.roberta.encoder.layer.0.attention.self.value.lora_A.adapter1.weight', 'base_model.model.roberta.encoder.layer.0.attention.self.value.lora_B.default.weight', 'base_model.model.roberta.encoder.layer.0.attention.self.value.lora_B.adapter1.weight', 'base_model.model.roberta.encoder.layer.0.attention.output.dense.weight', 'base_model.model.roberta.encoder.layer.0.attention.output.dense.bias', 'base_model.model.roberta.encoder.layer.0.attention.output.LayerNorm.weight', 'base_model.model.roberta.encoder.layer.0.attention.output.LayerNorm.bias', 'base_model.model.roberta.encoder.layer.0.intermediate.dense.weight', 'base_model.model.roberta.encoder.layer.0.intermediate.dense.bias', 'base_model.model.roberta.encoder.layer.0.output.dense.weight', 'base_model.model.roberta.encoder.layer.0.output.dense.bias', 'base_model.model.roberta.encoder.layer.0.output.LayerNorm.weight', 'base_model.model.roberta.encoder.layer.0.output.LayerNorm.bias', 'base_model.model.roberta.encoder.layer.1.attention.self.query.base_layer.weight', 'base_model.model.roberta.encoder.layer.1.attention.self.query.base_layer.bias', 'base_model.model.roberta.encoder.layer.1.attention.self.query.lora_A.default.weight', 'base_model.model.roberta.encoder.layer.1.attention.self.query.lora_A.adapter1.weight', 'base_model.model.roberta.encoder.layer.1.attention.self.query.lora_B.default.weight', 'base_model.model.roberta.encoder.layer.1.attention.self.query.lora_B.adapter1.weight', 'base_model.model.roberta.encoder.layer.1.attention.self.key.weight', 'base_model.model.roberta.encoder.layer.1.attention.self.key.bias', 'base_model.model.roberta.encoder.layer.1.attention.self.value.base_layer.weight', 'base_model.model.roberta.encoder.layer.1.attention.self.value.base_layer.bias', 'base_model.model.roberta.encoder.layer.1.attention.self.value.lora_A.default.weight', 'base_model.model.roberta.encoder.layer.1.attention.self.value.lora_A.adapter1.weight', 'base_model.model.roberta.encoder.layer.1.attention.self.value.lora_B.default.weight', 'base_model.model.roberta.encoder.layer.1.attention.self.value.lora_B.adapter1.weight', 'base_model.model.roberta.encoder.layer.1.attention.output.dense.weight', 'base_model.model.roberta.encoder.layer.1.attention.output.dense.bias', 'base_model.model.roberta.encoder.layer.1.attention.output.LayerNorm.weight', 'base_model.model.roberta.encoder.layer.1.attention.output.LayerNorm.bias', 'base_model.model.roberta.encoder.layer.1.intermediate.dense.weight', 'base_model.model.roberta.encoder.layer.1.intermediate.dense.bias', 'base_model.model.roberta.encoder.layer.1.output.dense.weight', 'base_model.model.roberta.encoder.layer.1.output.dense.bias', 'base_model.model.roberta.encoder.layer.1.output.LayerNorm.weight', 'base_model.model.roberta.encoder.layer.1.output.LayerNorm.bias', 'base_model.model.roberta.encoder.layer.2.attention.self.query.base_layer.weight', 'base_model.model.roberta.encoder.layer.2.attention.self.query.base_layer.bias', 'base_model.model.roberta.encoder.layer.2.attention.self.query.lora_A.default.weight', 'base_model.model.roberta.encoder.layer.2.attention.self.query.lora_A.adapter1.weight', 'base_model.model.roberta.encoder.layer.2.attention.self.query.lora_B.default.weight', 'base_model.model.roberta.encoder.layer.2.attention.self.query.lora_B.adapter1.weight', 'base_model.model.roberta.encoder.layer.2.attention.self.key.weight', 'base_model.model.roberta.encoder.layer.2.attention.self.key.bias', 'base_model.model.roberta.encoder.layer.2.attention.self.value.base_layer.weight', 'base_model.model.roberta.encoder.layer.2.attention.self.value.base_layer.bias', 'base_model.model.roberta.encoder.layer.2.attention.self.value.lora_A.default.weight', 'base_model.model.roberta.encoder.layer.2.attention.self.value.lora_A.adapter1.weight', 'base_model.model.roberta.encoder.layer.2.attention.self.value.lora_B.default.weight', 'base_model.model.roberta.encoder.layer.2.attention.self.value.lora_B.adapter1.weight', 'base_model.model.roberta.encoder.layer.2.attention.output.dense.weight', 'base_model.model.roberta.encoder.layer.2.attention.output.dense.bias', 'base_model.model.roberta.encoder.layer.2.attention.output.LayerNorm.weight', 'base_model.model.roberta.encoder.layer.2.attention.output.LayerNorm.bias', 'base_model.model.roberta.encoder.layer.2.intermediate.dense.weight', 'base_model.model.roberta.encoder.layer.2.intermediate.dense.bias', 'base_model.model.roberta.encoder.layer.2.output.dense.weight', 'base_model.model.roberta.encoder.layer.2.output.dense.bias', 'base_model.model.roberta.encoder.layer.2.output.LayerNorm.weight', 'base_model.model.roberta.encoder.layer.2.output.LayerNorm.bias', 'base_model.model.roberta.encoder.layer.3.attention.self.query.base_layer.weight', 'base_model.model.roberta.encoder.layer.3.attention.self.query.base_layer.bias', 'base_model.model.roberta.encoder.layer.3.attention.self.query.lora_A.default.weight', 'base_model.model.roberta.encoder.layer.3.attention.self.query.lora_A.adapter1.weight', 'base_model.model.roberta.encoder.layer.3.attention.self.query.lora_B.default.weight', 'base_model.model.roberta.encoder.layer.3.attention.self.query.lora_B.adapter1.weight', 'base_model.model.roberta.encoder.layer.3.attention.self.key.weight', 'base_model.model.roberta.encoder.layer.3.attention.self.key.bias', 'base_model.model.roberta.encoder.layer.3.attention.self.value.base_layer.weight', 'base_model.model.roberta.encoder.layer.3.attention.self.value.base_layer.bias', 'base_model.model.roberta.encoder.layer.3.attention.self.value.lora_A.default.weight', 'base_model.model.roberta.encoder.layer.3.attention.self.value.lora_A.adapter1.weight', 'base_model.model.roberta.encoder.layer.3.attention.self.value.lora_B.default.weight', 'base_model.model.roberta.encoder.layer.3.attention.self.value.lora_B.adapter1.weight', 'base_model.model.roberta.encoder.layer.3.attention.output.dense.weight', 'base_model.model.roberta.encoder.layer.3.attention.output.dense.bias', 'base_model.model.roberta.encoder.layer.3.attention.output.LayerNorm.weight', 'base_model.model.roberta.encoder.layer.3.attention.output.LayerNorm.bias', 'base_model.model.roberta.encoder.layer.3.intermediate.dense.weight', 'base_model.model.roberta.encoder.layer.3.intermediate.dense.bias', 'base_model.model.roberta.encoder.layer.3.output.dense.weight', 'base_model.model.roberta.encoder.layer.3.output.dense.bias', 'base_model.model.roberta.encoder.layer.3.output.LayerNorm.weight', 'base_model.model.roberta.encoder.layer.3.output.LayerNorm.bias', 'base_model.model.roberta.encoder.layer.4.attention.self.query.base_layer.weight', 'base_model.model.roberta.encoder.layer.4.attention.self.query.base_layer.bias', 'base_model.model.roberta.encoder.layer.4.attention.self.query.lora_A.default.weight', 'base_model.model.roberta.encoder.layer.4.attention.self.query.lora_A.adapter1.weight', 'base_model.model.roberta.encoder.layer.4.attention.self.query.lora_B.default.weight', 'base_model.model.roberta.encoder.layer.4.attention.self.query.lora_B.adapter1.weight', 'base_model.model.roberta.encoder.layer.4.attention.self.key.weight', 'base_model.model.roberta.encoder.layer.4.attention.self.key.bias', 'base_model.model.roberta.encoder.layer.4.attention.self.value.base_layer.weight', 'base_model.model.roberta.encoder.layer.4.attention.self.value.base_layer.bias', 'base_model.model.roberta.encoder.layer.4.attention.self.value.lora_A.default.weight', 'base_model.model.roberta.encoder.layer.4.attention.self.value.lora_A.adapter1.weight', 'base_model.model.roberta.encoder.layer.4.attention.self.value.lora_B.default.weight', 'base_model.model.roberta.encoder.layer.4.attention.self.value.lora_B.adapter1.weight', 'base_model.model.roberta.encoder.layer.4.attention.output.dense.weight', 'base_model.model.roberta.encoder.layer.4.attention.output.dense.bias', 'base_model.model.roberta.encoder.layer.4.attention.output.LayerNorm.weight', 'base_model.model.roberta.encoder.layer.4.attention.output.LayerNorm.bias', 'base_model.model.roberta.encoder.layer.4.intermediate.dense.weight', 'base_model.model.roberta.encoder.layer.4.intermediate.dense.bias', 'base_model.model.roberta.encoder.layer.4.output.dense.weight', 'base_model.model.roberta.encoder.layer.4.output.dense.bias', 'base_model.model.roberta.encoder.layer.4.output.LayerNorm.weight', 'base_model.model.roberta.encoder.layer.4.output.LayerNorm.bias', 'base_model.model.roberta.encoder.layer.5.attention.self.query.base_layer.weight', 'base_model.model.roberta.encoder.layer.5.attention.self.query.base_layer.bias', 'base_model.model.roberta.encoder.layer.5.attention.self.query.lora_A.default.weight', 'base_model.model.roberta.encoder.layer.5.attention.self.query.lora_A.adapter1.weight', 'base_model.model.roberta.encoder.layer.5.attention.self.query.lora_B.default.weight', 'base_model.model.roberta.encoder.layer.5.attention.self.query.lora_B.adapter1.weight', 'base_model.model.roberta.encoder.layer.5.attention.self.key.weight', 'base_model.model.roberta.encoder.layer.5.attention.self.key.bias', 'base_model.model.roberta.encoder.layer.5.attention.self.value.base_layer.weight', 'base_model.model.roberta.encoder.layer.5.attention.self.value.base_layer.bias', 'base_model.model.roberta.encoder.layer.5.attention.self.value.lora_A.default.weight', 'base_model.model.roberta.encoder.layer.5.attention.self.value.lora_A.adapter1.weight', 'base_model.model.roberta.encoder.layer.5.attention.self.value.lora_B.default.weight', 'base_model.model.roberta.encoder.layer.5.attention.self.value.lora_B.adapter1.weight', 'base_model.model.roberta.encoder.layer.5.attention.output.dense.weight', 'base_model.model.roberta.encoder.layer.5.attention.output.dense.bias', 'base_model.model.roberta.encoder.layer.5.attention.output.LayerNorm.weight', 'base_model.model.roberta.encoder.layer.5.attention.output.LayerNorm.bias', 'base_model.model.roberta.encoder.layer.5.intermediate.dense.weight', 'base_model.model.roberta.encoder.layer.5.intermediate.dense.bias', 'base_model.model.roberta.encoder.layer.5.output.dense.weight', 'base_model.model.roberta.encoder.layer.5.output.dense.bias', 'base_model.model.roberta.encoder.layer.5.output.LayerNorm.weight', 'base_model.model.roberta.encoder.layer.5.output.LayerNorm.bias', 'base_model.model.roberta.encoder.layer.6.attention.self.query.base_layer.weight', 'base_model.model.roberta.encoder.layer.6.attention.self.query.base_layer.bias', 'base_model.model.roberta.encoder.layer.6.attention.self.query.lora_A.default.weight', 'base_model.model.roberta.encoder.layer.6.attention.self.query.lora_A.adapter1.weight', 'base_model.model.roberta.encoder.layer.6.attention.self.query.lora_B.default.weight', 'base_model.model.roberta.encoder.layer.6.attention.self.query.lora_B.adapter1.weight', 'base_model.model.roberta.encoder.layer.6.attention.self.key.weight', 'base_model.model.roberta.encoder.layer.6.attention.self.key.bias', 'base_model.model.roberta.encoder.layer.6.attention.self.value.base_layer.weight', 'base_model.model.roberta.encoder.layer.6.attention.self.value.base_layer.bias', 'base_model.model.roberta.encoder.layer.6.attention.self.value.lora_A.default.weight', 'base_model.model.roberta.encoder.layer.6.attention.self.value.lora_A.adapter1.weight', 'base_model.model.roberta.encoder.layer.6.attention.self.value.lora_B.default.weight', 'base_model.model.roberta.encoder.layer.6.attention.self.value.lora_B.adapter1.weight', 'base_model.model.roberta.encoder.layer.6.attention.output.dense.weight', 'base_model.model.roberta.encoder.layer.6.attention.output.dense.bias', 'base_model.model.roberta.encoder.layer.6.attention.output.LayerNorm.weight', 'base_model.model.roberta.encoder.layer.6.attention.output.LayerNorm.bias', 'base_model.model.roberta.encoder.layer.6.intermediate.dense.weight', 'base_model.model.roberta.encoder.layer.6.intermediate.dense.bias', 'base_model.model.roberta.encoder.layer.6.output.dense.weight', 'base_model.model.roberta.encoder.layer.6.output.dense.bias', 'base_model.model.roberta.encoder.layer.6.output.LayerNorm.weight', 'base_model.model.roberta.encoder.layer.6.output.LayerNorm.bias', 'base_model.model.roberta.encoder.layer.7.attention.self.query.base_layer.weight', 'base_model.model.roberta.encoder.layer.7.attention.self.query.base_layer.bias', 'base_model.model.roberta.encoder.layer.7.attention.self.query.lora_A.default.weight', 'base_model.model.roberta.encoder.layer.7.attention.self.query.lora_A.adapter1.weight', 'base_model.model.roberta.encoder.layer.7.attention.self.query.lora_B.default.weight', 'base_model.model.roberta.encoder.layer.7.attention.self.query.lora_B.adapter1.weight', 'base_model.model.roberta.encoder.layer.7.attention.self.key.weight', 'base_model.model.roberta.encoder.layer.7.attention.self.key.bias', 'base_model.model.roberta.encoder.layer.7.attention.self.value.base_layer.weight', 'base_model.model.roberta.encoder.layer.7.attention.self.value.base_layer.bias', 'base_model.model.roberta.encoder.layer.7.attention.self.value.lora_A.default.weight', 'base_model.model.roberta.encoder.layer.7.attention.self.value.lora_A.adapter1.weight', 'base_model.model.roberta.encoder.layer.7.attention.self.value.lora_B.default.weight', 'base_model.model.roberta.encoder.layer.7.attention.self.value.lora_B.adapter1.weight', 'base_model.model.roberta.encoder.layer.7.attention.output.dense.weight', 'base_model.model.roberta.encoder.layer.7.attention.output.dense.bias', 'base_model.model.roberta.encoder.layer.7.attention.output.LayerNorm.weight', 'base_model.model.roberta.encoder.layer.7.attention.output.LayerNorm.bias', 'base_model.model.roberta.encoder.layer.7.intermediate.dense.weight', 'base_model.model.roberta.encoder.layer.7.intermediate.dense.bias', 'base_model.model.roberta.encoder.layer.7.output.dense.weight', 'base_model.model.roberta.encoder.layer.7.output.dense.bias', 'base_model.model.roberta.encoder.layer.7.output.LayerNorm.weight', 'base_model.model.roberta.encoder.layer.7.output.LayerNorm.bias', 'base_model.model.roberta.encoder.layer.8.attention.self.query.base_layer.weight', 'base_model.model.roberta.encoder.layer.8.attention.self.query.base_layer.bias', 'base_model.model.roberta.encoder.layer.8.attention.self.query.lora_A.default.weight', 'base_model.model.roberta.encoder.layer.8.attention.self.query.lora_A.adapter1.weight', 'base_model.model.roberta.encoder.layer.8.attention.self.query.lora_B.default.weight', 'base_model.model.roberta.encoder.layer.8.attention.self.query.lora_B.adapter1.weight', 'base_model.model.roberta.encoder.layer.8.attention.self.key.weight', 'base_model.model.roberta.encoder.layer.8.attention.self.key.bias', 'base_model.model.roberta.encoder.layer.8.attention.self.value.base_layer.weight', 'base_model.model.roberta.encoder.layer.8.attention.self.value.base_layer.bias', 'base_model.model.roberta.encoder.layer.8.attention.self.value.lora_A.default.weight', 'base_model.model.roberta.encoder.layer.8.attention.self.value.lora_A.adapter1.weight', 'base_model.model.roberta.encoder.layer.8.attention.self.value.lora_B.default.weight', 'base_model.model.roberta.encoder.layer.8.attention.self.value.lora_B.adapter1.weight', 'base_model.model.roberta.encoder.layer.8.attention.output.dense.weight', 'base_model.model.roberta.encoder.layer.8.attention.output.dense.bias', 'base_model.model.roberta.encoder.layer.8.attention.output.LayerNorm.weight', 'base_model.model.roberta.encoder.layer.8.attention.output.LayerNorm.bias', 'base_model.model.roberta.encoder.layer.8.intermediate.dense.weight', 'base_model.model.roberta.encoder.layer.8.intermediate.dense.bias', 'base_model.model.roberta.encoder.layer.8.output.dense.weight', 'base_model.model.roberta.encoder.layer.8.output.dense.bias', 'base_model.model.roberta.encoder.layer.8.output.LayerNorm.weight', 'base_model.model.roberta.encoder.layer.8.output.LayerNorm.bias', 'base_model.model.roberta.encoder.layer.9.attention.self.query.base_layer.weight', 'base_model.model.roberta.encoder.layer.9.attention.self.query.base_layer.bias', 'base_model.model.roberta.encoder.layer.9.attention.self.query.lora_A.default.weight', 'base_model.model.roberta.encoder.layer.9.attention.self.query.lora_A.adapter1.weight', 'base_model.model.roberta.encoder.layer.9.attention.self.query.lora_B.default.weight', 'base_model.model.roberta.encoder.layer.9.attention.self.query.lora_B.adapter1.weight', 'base_model.model.roberta.encoder.layer.9.attention.self.key.weight', 'base_model.model.roberta.encoder.layer.9.attention.self.key.bias', 'base_model.model.roberta.encoder.layer.9.attention.self.value.base_layer.weight', 'base_model.model.roberta.encoder.layer.9.attention.self.value.base_layer.bias', 'base_model.model.roberta.encoder.layer.9.attention.self.value.lora_A.default.weight', 'base_model.model.roberta.encoder.layer.9.attention.self.value.lora_A.adapter1.weight', 'base_model.model.roberta.encoder.layer.9.attention.self.value.lora_B.default.weight', 'base_model.model.roberta.encoder.layer.9.attention.self.value.lora_B.adapter1.weight', 'base_model.model.roberta.encoder.layer.9.attention.output.dense.weight', 'base_model.model.roberta.encoder.layer.9.attention.output.dense.bias', 'base_model.model.roberta.encoder.layer.9.attention.output.LayerNorm.weight', 'base_model.model.roberta.encoder.layer.9.attention.output.LayerNorm.bias', 'base_model.model.roberta.encoder.layer.9.intermediate.dense.weight', 'base_model.model.roberta.encoder.layer.9.intermediate.dense.bias', 'base_model.model.roberta.encoder.layer.9.output.dense.weight', 'base_model.model.roberta.encoder.layer.9.output.dense.bias', 'base_model.model.roberta.encoder.layer.9.output.LayerNorm.weight', 'base_model.model.roberta.encoder.layer.9.output.LayerNorm.bias', 'base_model.model.roberta.encoder.layer.10.attention.self.query.base_layer.weight', 'base_model.model.roberta.encoder.layer.10.attention.self.query.base_layer.bias', 'base_model.model.roberta.encoder.layer.10.attention.self.query.lora_A.default.weight', 'base_model.model.roberta.encoder.layer.10.attention.self.query.lora_A.adapter1.weight', 'base_model.model.roberta.encoder.layer.10.attention.self.query.lora_B.default.weight', 'base_model.model.roberta.encoder.layer.10.attention.self.query.lora_B.adapter1.weight', 'base_model.model.roberta.encoder.layer.10.attention.self.key.weight', 'base_model.model.roberta.encoder.layer.10.attention.self.key.bias', 'base_model.model.roberta.encoder.layer.10.attention.self.value.base_layer.weight', 'base_model.model.roberta.encoder.layer.10.attention.self.value.base_layer.bias', 'base_model.model.roberta.encoder.layer.10.attention.self.value.lora_A.default.weight', 'base_model.model.roberta.encoder.layer.10.attention.self.value.lora_A.adapter1.weight', 'base_model.model.roberta.encoder.layer.10.attention.self.value.lora_B.default.weight', 'base_model.model.roberta.encoder.layer.10.attention.self.value.lora_B.adapter1.weight', 'base_model.model.roberta.encoder.layer.10.attention.output.dense.weight', 'base_model.model.roberta.encoder.layer.10.attention.output.dense.bias', 'base_model.model.roberta.encoder.layer.10.attention.output.LayerNorm.weight', 'base_model.model.roberta.encoder.layer.10.attention.output.LayerNorm.bias', 'base_model.model.roberta.encoder.layer.10.intermediate.dense.weight', 'base_model.model.roberta.encoder.layer.10.intermediate.dense.bias', 'base_model.model.roberta.encoder.layer.10.output.dense.weight', 'base_model.model.roberta.encoder.layer.10.output.dense.bias', 'base_model.model.roberta.encoder.layer.10.output.LayerNorm.weight', 'base_model.model.roberta.encoder.layer.10.output.LayerNorm.bias', 'base_model.model.roberta.encoder.layer.11.attention.self.query.base_layer.weight', 'base_model.model.roberta.encoder.layer.11.attention.self.query.base_layer.bias', 'base_model.model.roberta.encoder.layer.11.attention.self.query.lora_A.default.weight', 'base_model.model.roberta.encoder.layer.11.attention.self.query.lora_A.adapter1.weight', 'base_model.model.roberta.encoder.layer.11.attention.self.query.lora_B.default.weight', 'base_model.model.roberta.encoder.layer.11.attention.self.query.lora_B.adapter1.weight', 'base_model.model.roberta.encoder.layer.11.attention.self.key.weight', 'base_model.model.roberta.encoder.layer.11.attention.self.key.bias', 'base_model.model.roberta.encoder.layer.11.attention.self.value.base_layer.weight', 'base_model.model.roberta.encoder.layer.11.attention.self.value.base_layer.bias', 'base_model.model.roberta.encoder.layer.11.attention.self.value.lora_A.default.weight', 'base_model.model.roberta.encoder.layer.11.attention.self.value.lora_A.adapter1.weight', 'base_model.model.roberta.encoder.layer.11.attention.self.value.lora_B.default.weight', 'base_model.model.roberta.encoder.layer.11.attention.self.value.lora_B.adapter1.weight', 'base_model.model.roberta.encoder.layer.11.attention.output.dense.weight', 'base_model.model.roberta.encoder.layer.11.attention.output.dense.bias', 'base_model.model.roberta.encoder.layer.11.attention.output.LayerNorm.weight', 'base_model.model.roberta.encoder.layer.11.attention.output.LayerNorm.bias', 'base_model.model.roberta.encoder.layer.11.intermediate.dense.weight', 'base_model.model.roberta.encoder.layer.11.intermediate.dense.bias', 'base_model.model.roberta.encoder.layer.11.output.dense.weight', 'base_model.model.roberta.encoder.layer.11.output.dense.bias', 'base_model.model.roberta.encoder.layer.11.output.LayerNorm.weight', 'base_model.model.roberta.encoder.layer.11.output.LayerNorm.bias', 'base_model.model.classifier.dense.weight', 'base_model.model.classifier.dense.bias', 'base_model.model.classifier.out_proj.weight', 'base_model.model.classifier.out_proj.bias'], unexpected_keys=[])"
      ]
     },
     "execution_count": 48,
     "metadata": {},
     "output_type": "execute_result"
    }
   ],
   "source": [
    "\n",
    "# Load the entire model with adapters\n",
    "peft_model = PeftModel.from_pretrained(base_model, saved_dire)\n",
    "\n",
    "# Load adapter1 and adapter2\n",
    "peft_model.load_adapter(saved_dire + '/adapter1', adapter_name='adapter1')\n",
    "peft_model.load_adapter(saved_dire + '/adapter2', adapter_name='adapter2')"
   ]
  },
  {
   "cell_type": "code",
   "execution_count": 59,
   "metadata": {},
   "outputs": [],
   "source": [
    "import torch.nn.functional as F\n",
    "\n",
    "def classify(peft_model,text, adapter_name: str):\n",
    "    # Set the adapter\n",
    "    peft_model.set_adapter(adapter_name)\n",
    "    # Tokenize the input text\n",
    "    inputs = tokenizer(text, padding=True, truncation=True, return_tensors='pt')\n",
    "    # Get the model's output\n",
    "    output = peft_model(**inputs)\n",
    "    # Get the predicted class and confidence\n",
    "    probabilities = F.softmax(output.logits, dim=-1)\n",
    "    prediction = probabilities.argmax(dim=-1).item()\n",
    "    confidence = probabilities[0, prediction].item()\n",
    "    print(f'Adapter: {adapter_name} | Text: {text} | Class: {prediction} | Label: {id2label[prediction]} | Confidence: {confidence:.2%}')\n",
    "\n"
   ]
  },
  {
   "cell_type": "code",
   "execution_count": 60,
   "metadata": {},
   "outputs": [],
   "source": [
    "text1=\"Kederis proclaims innocence Olympic champion Kostas Kederis today left hospital ahead of his date with IOC inquisitors claiming his ...\"\n",
    "text2=\"Wall St. Bears Claw Back Into the Black (Reuters) Reuters - Short-sellers, Wall Street's dwindling\\band of ultra-cynics, are seeing green again.\"\n"
   ]
  },
  {
   "cell_type": "code",
   "execution_count": 61,
   "metadata": {},
   "outputs": [
    {
     "name": "stdout",
     "output_type": "stream",
     "text": [
      "Adapter: adapter1 | Text: Kederis proclaims innocence Olympic champion Kostas Kederis today left hospital ahead of his date with IOC inquisitors claiming his ... | Class: 2 | Label: Business | Confidence: 30.06%\n",
      "Adapter: adapter2 | Text: Kederis proclaims innocence Olympic champion Kostas Kederis today left hospital ahead of his date with IOC inquisitors claiming his ... | Class: 2 | Label: Business | Confidence: 29.52%\n"
     ]
    }
   ],
   "source": [
    "classify(peft_model,text1,'adapter1')\n",
    "classify(peft_model,text1,'adapter2')"
   ]
  },
  {
   "cell_type": "code",
   "execution_count": 58,
   "metadata": {},
   "outputs": [
    {
     "name": "stdout",
     "output_type": "stream",
     "text": [
      "Adapter: adapter1 | Text: Wall St. Bears Claw Back Into the Black (Reuters) Reuters - Short-sellers, Wall Street's dwindlinand of ultra-cynics, are seeing green again. | Class: 2 | Label: Business | Confidence: 36.23%\n",
      "Adapter: adapter2 | Text: Wall St. Bears Claw Back Into the Black (Reuters) Reuters - Short-sellers, Wall Street's dwindlinand of ultra-cynics, are seeing green again. | Class: 2 | Label: Business | Confidence: 31.64%\n"
     ]
    }
   ],
   "source": [
    "classify(text2,'adapter1') ## both correction are wrong 'trained on small dataset so\n",
    "classify(text2,'adapter2')"
   ]
  },
  {
   "cell_type": "code",
   "execution_count": 53,
   "metadata": {},
   "outputs": [
    {
     "data": {
      "text/plain": [
       "tensor([[-0.2170, -0.1073,  0.2246,  0.1906]], grad_fn=<AddmmBackward0>)"
      ]
     },
     "execution_count": 53,
     "metadata": {},
     "output_type": "execute_result"
    }
   ],
   "source": []
  },
  {
   "cell_type": "markdown",
   "metadata": {},
   "source": [
    "### What if saved_pretrained only saved adapter weight?\n",
    "\n",
    "Load the base_model and tokenizer from the hub and keep everything the same. **Make sure when you are training you also save the classifier_head**\n",
    "\n",
    "\n",
    "\n",
    "```python\n",
    "base_model = AutoModelForSequenceClassification.from_pretrained(base_model, id2label=id2label)\n",
    "\n",
    "tokenizer = AutoTokenizer.from_pretrained(base_model)\n",
    "```\n"
   ]
  },
  {
   "cell_type": "code",
   "execution_count": 64,
   "metadata": {},
   "outputs": [],
   "source": [
    "\n",
    "## Path of the save_model dire\n",
    "## \n",
    "# base_model = 'roberta-base'\n",
    "# saved_dire='../saved_weight/12_config_lora'\n",
    "# ## loading the \"Pretrained\" base model and \"Pretrained\" tokenizer\n",
    "# id2label={0: 'World', 1: 'Sports', 2: 'Business', 3: 'Sci/Tech'}\n",
    "# ## we will load base_model from hub and only use adapter\n",
    "# base_model=AutoModelForSequenceClassification.from_pretrained(base_model,id2label= id2label)\n",
    "# tokenizer=AutoTokenizer.from_pretrained(base_model)\n",
    "# ##loading the adapter1_config and adapter2_config\n",
    "# adapter1_config=PeftConfig.from_pretrained(saved_dire+'/adapter1')\n",
    "# adapter2_config=PeftConfig.from_pretrained(saved_dire+'/adapter2')\n",
    "# print(f'adapter1_config: {adapter1_config}')\n",
    "# print(f'adapter2_config: {adapter2_config}')\n",
    "\n",
    "# # Load the entire model with adapters\n",
    "# peft_model_ = PeftModel.from_pretrained(base_model, saved_dire)\n",
    "\n",
    "# # Load adapter1 and adapter2\n",
    "# peft_model_.load_adapter(saved_dire + '/adapter1', adapter_name='adapter1')\n",
    "# peft_model_.load_adapter(saved_dire + '/adapter2', adapter_name='adapter2')"
   ]
  },
  {
   "cell_type": "code",
   "execution_count": null,
   "metadata": {},
   "outputs": [],
   "source": []
  }
 ],
 "metadata": {
  "kernelspec": {
   "display_name": "vision",
   "language": "python",
   "name": "python3"
  },
  "language_info": {
   "codemirror_mode": {
    "name": "ipython",
    "version": 3
   },
   "file_extension": ".py",
   "mimetype": "text/x-python",
   "name": "python",
   "nbconvert_exporter": "python",
   "pygments_lexer": "ipython3",
   "version": "3.9.12"
  }
 },
 "nbformat": 4,
 "nbformat_minor": 2
}
